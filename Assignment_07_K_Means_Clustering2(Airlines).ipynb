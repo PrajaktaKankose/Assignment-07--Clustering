{
  "nbformat": 4,
  "nbformat_minor": 0,
  "metadata": {
    "colab": {
      "name": "Assignment-07-K-Means Clustering2(Airlines).ipynb",
      "provenance": [],
      "collapsed_sections": []
    },
    "kernelspec": {
      "name": "python3",
      "display_name": "Python 3"
    },
    "language_info": {
      "name": "python"
    }
  },
  "cells": [
    {
      "cell_type": "code",
      "execution_count": null,
      "metadata": {
        "id": "C8nVoPnUAuOd"
      },
      "outputs": [],
      "source": [
        "# Import Libraries\n",
        "import pandas as pd\n",
        "import numpy as np\n",
        "import matplotlib.pyplot as plt\n",
        "from sklearn.cluster import KMeans\n",
        "from sklearn.preprocessing import normalize"
      ]
    },
    {
      "cell_type": "code",
      "source": [
        "# Import Dataset\n",
        "airline=pd.read_csv('/content/EastWestAirlines.csv')\n",
        "airline"
      ],
      "metadata": {
        "id": "hnUvwGbkBmJs"
      },
      "execution_count": null,
      "outputs": []
    },
    {
      "cell_type": "code",
      "source": [
        "airline2=airline.drop(['ID#'],axis=1)\n",
        "airline2"
      ],
      "metadata": {
        "id": "3-I6VqMJBw-z"
      },
      "execution_count": null,
      "outputs": []
    },
    {
      "cell_type": "code",
      "source": [
        "airline2.info()"
      ],
      "metadata": {
        "id": "CpO9X1gJB7TV"
      },
      "execution_count": null,
      "outputs": []
    },
    {
      "cell_type": "code",
      "source": [
        "# Normalize heterogenous numerical data\n",
        "airline2_norm=pd.DataFrame(normalize(airline2),columns=airline2.columns)\n",
        "airline2_norm"
      ],
      "metadata": {
        "id": "Zy05n7tyB_4u"
      },
      "execution_count": null,
      "outputs": []
    },
    {
      "cell_type": "code",
      "source": [
        "# Use Elbow Graph to find optimum number of  clusters (K value) from K values range\n",
        "# The K-means algorithm aims to choose centroids that minimise the inertia, or within-cluster sum-of-squares criterion WCSS \n",
        "# random state can be anything from 0 to 42, but the same number to be used everytime,so that the results don't change. "
      ],
      "metadata": {
        "id": "iyHnLWqxCDp9"
      },
      "execution_count": null,
      "outputs": []
    },
    {
      "cell_type": "code",
      "source": [
        "# within-cluster sum-of-squares criterion \n",
        "wcss=[]\n",
        "for i in range (1,11):\n",
        "    kmeans=KMeans(n_clusters=i,random_state=2)\n",
        "    kmeans.fit(airline2_norm)\n",
        "    wcss.append(kmeans.inertia_)"
      ],
      "metadata": {
        "id": "BhMaU-S9CHrA"
      },
      "execution_count": null,
      "outputs": []
    },
    {
      "cell_type": "code",
      "source": [
        "# Plot K values range vs WCSS to get Elbow graph for choosing K (no. of clusters)\n",
        "plt.plot(range(1,11),wcss)\n",
        "plt.title('Elbow Graph')\n",
        "plt.xlabel('Number of clusters')\n",
        "plt.ylabel('WCSS')\n",
        "plt.show()"
      ],
      "metadata": {
        "id": "h5STrCNNCLIu"
      },
      "execution_count": null,
      "outputs": []
    },
    {
      "cell_type": "code",
      "source": [
        "#Build Cluster algorithm using K=4"
      ],
      "metadata": {
        "id": "gpCaC2fEPgub"
      },
      "execution_count": null,
      "outputs": []
    },
    {
      "cell_type": "code",
      "source": [
        "# Cluster algorithm using K=4\n",
        "clusters4=KMeans(4,random_state=30).fit(airline2_norm)\n",
        "clusters4"
      ],
      "metadata": {
        "id": "dRLCLUIjPk_E"
      },
      "execution_count": null,
      "outputs": []
    },
    {
      "cell_type": "code",
      "source": [
        "clusters4.labels_"
      ],
      "metadata": {
        "id": "n0bU5r63Pnzz"
      },
      "execution_count": null,
      "outputs": []
    },
    {
      "cell_type": "code",
      "source": [
        "# Assign clusters to the data set\n",
        "airline4=airline2.copy()\n",
        "airline4['clusters4id']=clusters4.labels_\n",
        "airline4"
      ],
      "metadata": {
        "id": "Iy5zq0bSPrP_"
      },
      "execution_count": null,
      "outputs": []
    },
    {
      "cell_type": "code",
      "source": [
        "# Compute the centroids for K=4 clusters with 11 variables\n",
        "clusters4.cluster_centers_"
      ],
      "metadata": {
        "id": "eOpY-T3YPuNp"
      },
      "execution_count": null,
      "outputs": []
    },
    {
      "cell_type": "code",
      "source": [
        "# Group data by Clusters (K=4)\n",
        "airline4.groupby('clusters4id').agg(['mean']).reset_index()"
      ],
      "metadata": {
        "id": "1YruJ8oNPxpy"
      },
      "execution_count": null,
      "outputs": []
    },
    {
      "cell_type": "code",
      "source": [
        "# Plot Clusters\n",
        "plt.figure(figsize=(10, 7))  \n",
        "plt.scatter(airline4['clusters4id'],airline4['Balance'], c=clusters4.labels_) "
      ],
      "metadata": {
        "id": "WaaNGltpP1FJ"
      },
      "execution_count": null,
      "outputs": []
    },
    {
      "cell_type": "code",
      "source": [
        "#Build Cluster algorithm using K=5"
      ],
      "metadata": {
        "id": "-pQg_ApoP4PY"
      },
      "execution_count": null,
      "outputs": []
    },
    {
      "cell_type": "code",
      "source": [
        "# Cluster algorithm using K=5\n",
        "clusters5=KMeans(5,random_state=30).fit(airline2_norm)\n",
        "clusters5"
      ],
      "metadata": {
        "id": "mSfF4WO-P93V"
      },
      "execution_count": null,
      "outputs": []
    },
    {
      "cell_type": "code",
      "source": [
        "clusters5.labels_"
      ],
      "metadata": {
        "id": "bkz5VGvBQAqz"
      },
      "execution_count": null,
      "outputs": []
    },
    {
      "cell_type": "code",
      "source": [
        "# Assign clusters to the data set\n",
        "airline5=airline2.copy()\n",
        "airline5['clusters5id']=clusters5.labels_\n",
        "airline5"
      ],
      "metadata": {
        "id": "3S6FTHqiQEhn"
      },
      "execution_count": null,
      "outputs": []
    },
    {
      "cell_type": "code",
      "source": [
        "# Compute the centroids for K=5 clusters with 11 variables\n",
        "clusters5.cluster_centers_"
      ],
      "metadata": {
        "id": "9YMY0dGRQHOx"
      },
      "execution_count": null,
      "outputs": []
    },
    {
      "cell_type": "code",
      "source": [
        "# Group data by Clusters (K=5)\n",
        "airline5.groupby('clusters5id').agg(['mean']).reset_index()"
      ],
      "metadata": {
        "id": "zWt3WYZ4QKR9"
      },
      "execution_count": null,
      "outputs": []
    },
    {
      "cell_type": "code",
      "source": [
        "# Plot Clusters\n",
        "plt.figure(figsize=(10, 7))  \n",
        "plt.scatter(airline5['clusters5id'],airline5['Balance'], c=clusters5.labels_) "
      ],
      "metadata": {
        "id": "17DhciLYQPYi"
      },
      "execution_count": null,
      "outputs": []
    },
    {
      "cell_type": "code",
      "source": [
        ""
      ],
      "metadata": {
        "id": "p6ZiEVxbQSdC"
      },
      "execution_count": null,
      "outputs": []
    }
  ]
}