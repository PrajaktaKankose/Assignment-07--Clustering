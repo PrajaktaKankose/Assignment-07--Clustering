{
  "nbformat": 4,
  "nbformat_minor": 0,
  "metadata": {
    "colab": {
      "name": "Assignment-07-DBSCAN Clustering (Crimes).ipynb",
      "provenance": [],
      "collapsed_sections": []
    },
    "kernelspec": {
      "name": "python3",
      "display_name": "Python 3"
    },
    "language_info": {
      "name": "python"
    }
  },
  "cells": [
    {
      "cell_type": "code",
      "execution_count": null,
      "metadata": {
        "id": "8ye_yXSAyHDK"
      },
      "outputs": [],
      "source": [
        "# Import Libraries\n",
        "import pandas as pd\n",
        "import numpy as np\n",
        "import matplotlib.pyplot as plt\n",
        "from sklearn.cluster import DBSCAN\n",
        "from sklearn.preprocessing import StandardScaler"
      ]
    },
    {
      "cell_type": "code",
      "source": [
        "# Import Dataset\n",
        "crime=pd.read_csv('/content/crime_data.csv')\n",
        "crime"
      ],
      "metadata": {
        "id": "tK1cnx7nypZN"
      },
      "execution_count": null,
      "outputs": []
    },
    {
      "cell_type": "code",
      "source": [
        "crime.info()"
      ],
      "metadata": {
        "id": "C4vP3g70yxpi"
      },
      "execution_count": null,
      "outputs": []
    },
    {
      "cell_type": "code",
      "source": [
        "crime.drop(['Unnamed: 0'],axis=1,inplace=True)\n",
        "crime"
      ],
      "metadata": {
        "id": "fHiMMmk9y2Vz"
      },
      "execution_count": null,
      "outputs": []
    },
    {
      "cell_type": "code",
      "source": [
        "# Normalize heterogenous numerical data using standard scalar fit transform to dataset\n",
        "crime_norm=StandardScaler().fit_transform(crime)\n",
        "crime_norm"
      ],
      "metadata": {
        "id": "Z1ZXsu4gy6VW"
      },
      "execution_count": null,
      "outputs": []
    },
    {
      "cell_type": "code",
      "source": [
        "# DBSCAN Clustering\n",
        "dbscan=DBSCAN(eps=1,min_samples=4)\n",
        "dbscan.fit(crime_norm)"
      ],
      "metadata": {
        "id": "DLtwVyIey-gp"
      },
      "execution_count": null,
      "outputs": []
    },
    {
      "cell_type": "code",
      "source": [
        "#Noisy samples are given the label -1.\n",
        "dbscan.labels_"
      ],
      "metadata": {
        "id": "y2DlKhITzD4F"
      },
      "execution_count": null,
      "outputs": []
    },
    {
      "cell_type": "code",
      "source": [
        "# Adding clusters to dataset\n",
        "crime['clusters']=dbscan.labels_\n",
        "crime"
      ],
      "metadata": {
        "id": "dfXGG06uzI2L"
      },
      "execution_count": null,
      "outputs": []
    },
    {
      "cell_type": "code",
      "source": [
        "crime.groupby('clusters').agg(['mean']).reset_index()"
      ],
      "metadata": {
        "id": "gsugEOiPzOFi"
      },
      "execution_count": null,
      "outputs": []
    },
    {
      "cell_type": "code",
      "source": [
        "# Plot Clusters\n",
        "plt.figure(figsize=(10, 7))  \n",
        "plt.scatter(crime['clusters'],crime['UrbanPop'], c=dbscan.labels_) "
      ],
      "metadata": {
        "id": "VuWsWSiazYEO"
      },
      "execution_count": null,
      "outputs": []
    },
    {
      "cell_type": "code",
      "source": [
        ""
      ],
      "metadata": {
        "id": "xrP3jhj6zcBY"
      },
      "execution_count": null,
      "outputs": []
    }
  ]
}